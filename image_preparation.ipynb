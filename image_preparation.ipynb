{
 "cells": [
  {
   "cell_type": "code",
   "execution_count": 1,
   "outputs": [],
   "source": [
    "# TODO descriptions..."
   ],
   "metadata": {
    "collapsed": false,
    "pycharm": {
     "name": "#%%\n",
     "is_executing": false
    }
   }
  },
  {
   "cell_type": "code",
   "execution_count": 1,
   "metadata": {
    "collapsed": true,
    "pycharm": {
     "is_executing": false
    }
   },
   "outputs": [],
   "source": [
    "from os import listdir, makedirs\n",
    "from os.path import join, isdir, basename\n",
    "\n",
    "from PIL import Image\n",
    "\n",
    "from utils.image_utils import get_images_in_folder"
   ]
  },
  {
   "cell_type": "code",
   "execution_count": 2,
   "outputs": [],
   "source": [
    "# util functions to process images\n",
    "\n",
    "def process_image_file(file_path, destination_folder, file_name):\n",
    "    \"\"\"\n",
    "    Function to process raw image and save it to destination folder\n",
    "    \"\"\"\n",
    "    \n",
    "    # opens a image in RGB mode \n",
    "    img = Image.open(file_path)\n",
    "    \n",
    "    # size of the image in pixels\n",
    "    width, height = img.size\n",
    "    \n",
    "    # compute dimensions for cropping... to get image with the same height and width\n",
    "    base_size = min(width, height)\n",
    "    height_overlay = (height - base_size)/2\n",
    "    width_overlay = (width - base_size)/2\n",
    "    \n",
    "    # cropped image of above dimension \n",
    "    new_img = img.crop((width_overlay, height_overlay, width - width_overlay, height - height_overlay)) \n",
    "    \n",
    "    # save final image\n",
    "    new_img.save('{}/{}.jpg'.format(destination_folder, file_name))\n",
    "\n",
    "def get_next_index_in_image_folder(img_folder):\n",
    "    \"\"\"\n",
    "    Get next index of a image in destination folder\n",
    "    \"\"\"\n",
    "    indexes = [int(basename(path).split('.')[0]) for path in get_images_in_folder(img_folder)]\n",
    "    if len(indexes) == 0:\n",
    "        return 0\n",
    "    return max(indexes) + 1"
   ],
   "metadata": {
    "collapsed": false,
    "pycharm": {
     "name": "#%%\n",
     "is_executing": false
    }
   }
  },
  {
   "cell_type": "code",
   "source": [
    "# process Afremovs' images\n",
    "\n",
    "# paths\n",
    "raw_image_folder = \"data_set/afremov_raw\"\n",
    "destination_image_folder = \"data_set/afremov\"\n",
    "\n",
    "# get all valid images\n",
    "raw_images_paths = get_images_in_folder(raw_image_folder)\n",
    "\n",
    "# create destination folder if it does not exist\n",
    "makedirs(destination_image_folder, exist_ok=True)\n",
    "\n",
    "# save images\n",
    "for i, path in enumerate(raw_images_paths):\n",
    "    process_image_file(path, destination_image_folder, i)"
   ],
   "metadata": {
    "collapsed": false,
    "pycharm": {
     "name": "#%%\n",
     "is_executing": false
    }
   },
   "execution_count": 3,
   "outputs": []
  },
  {
   "cell_type": "code",
   "execution_count": 5,
   "outputs": [],
   "source": [
    "# process images with activity\n",
    "\n",
    "# paths\n",
    "raw_image_folder = \"data_set/activities_raw\"\n",
    "destination_image_folder = \"data_set/photos_activities\"\n",
    "\n",
    "# get all sub-folders\n",
    "raw_image_sub_folders = [d for d in listdir(raw_image_folder) if isdir(join(raw_image_folder, d))]\n",
    "\n",
    "# create destination folder if it does not exist\n",
    "makedirs(destination_image_folder, exist_ok=True)\n",
    "\n",
    "# next index to use for an image\n",
    "next_index = get_next_index_in_image_folder(destination_image_folder)\n",
    "\n",
    "# process images in each sub-directory\n",
    "for sub_dir in raw_image_sub_folders:\n",
    "    sub_dir_path = join(raw_image_folder, sub_dir)\n",
    "    \n",
    "    # get images\n",
    "    raw_images_paths = get_images_in_folder(sub_dir_path)\n",
    "    \n",
    "    # select one image per folder\n",
    "    process_image_file(raw_images_paths[int(len(raw_images_paths)/2)], destination_image_folder, next_index)\n",
    "    next_index += 1\n",
    "    "
   ],
   "metadata": {
    "collapsed": false,
    "pycharm": {
     "name": "#%%\n",
     "is_executing": false
    }
   }
  },
  {
   "cell_type": "code",
   "source": [
    "# process images with faces\n",
    "\n",
    "# paths\n",
    "raw_image_folder = \"data_set/wiki_faces_raw\"\n",
    "destination_image_folder = \"data_set/photos_faces\"\n",
    "\n",
    "# get all valid images\n",
    "raw_images_paths = get_images_in_folder(raw_image_folder)\n",
    "\n",
    "# create destination folder if it does not exist\n",
    "makedirs(destination_image_folder, exist_ok=True)\n",
    "\n",
    "# next index to use for an image\n",
    "next_index = get_next_index_in_image_folder(destination_image_folder)\n",
    "\n",
    "# save images\n",
    "for i, path in enumerate(raw_images_paths):\n",
    "    process_image_file(path, destination_image_folder, i + next_index)\n"
   ],
   "metadata": {
    "collapsed": false,
    "pycharm": {
     "name": "#%%\n",
     "is_executing": false
    }
   },
   "execution_count": 6,
   "outputs": []
  }
 ],
 "metadata": {
  "kernelspec": {
   "display_name": "Python 3",
   "language": "python",
   "name": "python3"
  },
  "language_info": {
   "codemirror_mode": {
    "name": "ipython",
    "version": 2
   },
   "file_extension": ".py",
   "mimetype": "text/x-python",
   "name": "python",
   "nbconvert_exporter": "python",
   "pygments_lexer": "ipython2",
   "version": "2.7.6"
  },
  "pycharm": {
   "stem_cell": {
    "cell_type": "raw",
    "source": [],
    "metadata": {
     "collapsed": false
    }
   }
  }
 },
 "nbformat": 4,
 "nbformat_minor": 0
}